import pandas as pd
import torch
import numpy as np
import torch.nn.functional as F
import torch.nn as nn

# Loading the dataset as torch.tensor
data = np.array(pd.read_csv('train.csv'))
data = torch.tensor(data)

# constructing the inputs and values
y = data[:,0]
x = data[:,1:]/255


xtrain = x[:int(0.8*len(x))]
ytrain = y[:int(0.8*len(y))]
xval = x[int(0.8*len(x)):int(0.9*len(x))]
yval = y[int(0.8*len(y)):int(0.9*len(y))]
xtest = x[int(0.9*len(x)):]
ytest = y[int(0.9*len(y)):]

