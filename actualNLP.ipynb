{
 "cells": [
  {
   "cell_type": "code",
   "execution_count": 1,
   "metadata": {},
   "outputs": [
    {
     "name": "stderr",
     "output_type": "stream",
     "text": [
      "c:\\Users\\SOUMIL\\AppData\\Local\\Programs\\Python\\Python310\\lib\\site-packages\\tqdm\\auto.py:21: TqdmWarning: IProgress not found. Please update jupyter and ipywidgets. See https://ipywidgets.readthedocs.io/en/stable/user_install.html\n",
      "  from .autonotebook import tqdm as notebook_tqdm\n"
     ]
    }
   ],
   "source": [
    "# lets make a new nn\n",
    "import pandas as pd\n",
    "import torch\n",
    "import random\n",
    "import math\n",
    "import numpy as np\n",
    "from matplotlib import pyplot as plt\n",
    "from PIL import Image as I\n",
    "import torch.optim as optim\n",
    "import torch.nn.functional as F"
   ]
  },
  {
   "cell_type": "code",
   "execution_count": 4,
   "metadata": {},
   "outputs": [
    {
     "name": "stdout",
     "output_type": "stream",
     "text": [
      "(42000, 785)\n"
     ]
    }
   ],
   "source": [
    "data = np.array(pd.read_csv('Mnist/digit-recognizer/train.csv'))\n",
    "print(data.shape)\n",
    "data = torch.tensor(data)"
   ]
  },
  {
   "cell_type": "code",
   "execution_count": 73,
   "metadata": {},
   "outputs": [],
   "source": [
    "y = data[:,0]\n",
    "x = data[:,1:]/255"
   ]
  },
  {
   "cell_type": "code",
   "execution_count": 6,
   "metadata": {},
   "outputs": [],
   "source": [
    "xtrain = x[:int(0.8*len(x))]\n",
    "ytrain = y[:int(0.8*len(y))]\n",
    "xtest = x[int(0.8*len(x)):]\n",
    "ytest = y[int(0.8*len(y)):]"
   ]
  },
  {
   "cell_type": "code",
   "execution_count": 7,
   "metadata": {},
   "outputs": [],
   "source": [
    "bat_sz = 16\n",
    "n_fl = 100\n",
    "n_ol = 10"
   ]
  },
  {
   "cell_type": "code",
   "execution_count": 8,
   "metadata": {},
   "outputs": [
    {
     "name": "stdout",
     "output_type": "stream",
     "text": [
      "tensor(33583)\n",
      "33600\n"
     ]
    }
   ],
   "source": [
    "ix = (torch.randperm(len(xtrain)-bat_sz))\n",
    "print(max(ix))\n",
    "print(len(xtrain))"
   ]
  },
  {
   "cell_type": "code",
   "execution_count": 9,
   "metadata": {},
   "outputs": [
    {
     "name": "stderr",
     "output_type": "stream",
     "text": [
      "C:\\Users\\SOUMIL\\AppData\\Local\\Temp\\ipykernel_11428\\1232626240.py:1: UserWarning: To copy construct from a tensor, it is recommended to use sourceTensor.clone().detach() or sourceTensor.clone().detach().requires_grad_(True), rather than torch.tensor(sourceTensor).\n",
      "  w1 = torch.tensor(torch.randn((784,n_fl))*0.1).clone().detach().requires_grad_(True)\n",
      "C:\\Users\\SOUMIL\\AppData\\Local\\Temp\\ipykernel_11428\\1232626240.py:2: UserWarning: To copy construct from a tensor, it is recommended to use sourceTensor.clone().detach() or sourceTensor.clone().detach().requires_grad_(True), rather than torch.tensor(sourceTensor).\n",
      "  b1 = torch.tensor(torch.randn((bat_sz,n_fl))*0.01).clone().detach().requires_grad_(True)\n",
      "C:\\Users\\SOUMIL\\AppData\\Local\\Temp\\ipykernel_11428\\1232626240.py:3: UserWarning: To copy construct from a tensor, it is recommended to use sourceTensor.clone().detach() or sourceTensor.clone().detach().requires_grad_(True), rather than torch.tensor(sourceTensor).\n",
      "  w2 = torch.tensor(torch.randn((n_fl,n_ol)) * 0.1).clone().detach().requires_grad_(True)\n",
      "C:\\Users\\SOUMIL\\AppData\\Local\\Temp\\ipykernel_11428\\1232626240.py:4: UserWarning: To copy construct from a tensor, it is recommended to use sourceTensor.clone().detach() or sourceTensor.clone().detach().requires_grad_(True), rather than torch.tensor(sourceTensor).\n",
      "  b2 = torch.tensor(torch.randn((bat_sz,n_ol)) * 0.01).clone().detach().requires_grad_(True)\n"
     ]
    }
   ],
   "source": [
    "w1 = torch.tensor(torch.randn((784,n_fl))*0.1).clone().detach().requires_grad_(True)\n",
    "b1 = torch.tensor(torch.randn((bat_sz,n_fl))*0.01).clone().detach().requires_grad_(True)\n",
    "w2 = torch.tensor(torch.randn((n_fl,n_ol)) * 0.1).clone().detach().requires_grad_(True)\n",
    "b2 = torch.tensor(torch.randn((bat_sz,n_ol)) * 0.01).clone().detach().requires_grad_(True)"
   ]
  },
  {
   "cell_type": "code",
   "execution_count": 10,
   "metadata": {},
   "outputs": [],
   "source": [
    "parame = [w1,b1,w2,b2]\n",
    "a=w1"
   ]
  },
  {
   "cell_type": "code",
   "execution_count": 11,
   "metadata": {},
   "outputs": [],
   "source": [
    "optimizer = torch.optim.SGD([w1, b1, w2, b2], lr=0.01)"
   ]
  },
  {
   "cell_type": "code",
   "execution_count": null,
   "metadata": {},
   "outputs": [],
   "source": [
    "lossi = []"
   ]
  },
  {
   "cell_type": "code",
   "execution_count": 77,
   "metadata": {},
   "outputs": [],
   "source": [
    "convolution = torch.tensor([[1,0,-1],[2,0,-2],[1,0,-1]]) "
   ]
  },
  {
   "cell_type": "code",
   "execution_count": 57,
   "metadata": {},
   "outputs": [],
   "source": [
    "# convolution apply function\n",
    "def coonv(arrey,conv):\n",
    "    img = arrey.view([28,28]).tolist()\n",
    "\n",
    "    # padding ---\n",
    "    img.insert(0,torch.zeros([28]).tolist())\n",
    "    img.append(torch.zeros([28]).tolist())\n",
    "    for i in range(len(img)):\n",
    "        img[i].insert(0,0.0)\n",
    "        img[i].append(0.0)\n",
    "    # done\n",
    "    # plt.gray()\n",
    "    # plt.imshow(img, interpolation='nearest')\n",
    "    # plt.show()\n",
    "    # -----------\n",
    "    #conv = torch.tensor([[1,1,1],[0,0,0],[-1,-1,-1]])    # horizontal\n",
    "    #    # verticle\n",
    "    #conv = torch.tensor([[1,0,-1],[2,0,-2],[1,0,-1]])\n",
    "    # resulting arr = 28 -3 +1   ie 26x26\n",
    "    def applyconv():\n",
    "        restn = torch.zeros([28,28])\n",
    "        for i in range(len(img)-2):\n",
    "            for j in range(len(img)-2):\n",
    "                a = torch.tensor(img[i:i+2][j:j+2])\n",
    "                # print(a*conv,sum(sum(a*conv)))\n",
    "                # return\n",
    "                restn[i][j] = max(sum(sum(a*conv)),0)\n",
    "                \n",
    "        return restn\n",
    "    arl = applyconv()\n",
    "    return arl\n",
    "\n",
    "def show(paramo,conv):\n",
    "    agh = coonv(paramo,conv)\n",
    "    plt.gray()\n",
    "    plt.imshow(paramo.view([28,28]).tolist(), interpolation='nearest')\n",
    "    plt.show()\n",
    "    plt.gray()\n",
    "    plt.imshow(agh.tolist(), interpolation='nearest')\n",
    "    plt.show()\n"
   ]
  },
  {
   "cell_type": "code",
   "execution_count": 78,
   "metadata": {},
   "outputs": [
    {
     "data": {
      "image/png": "[encoded data removed]",
      "text/plain": [
       "<Figure size 640x480 with 1 Axes>"
      ]
     },
     "metadata": {},
     "output_type": "display_data"
    },
    {
     "data": {
      "image/png": "[encoded data removed]",
      "text/plain": [
       "<Figure size 640x480 with 1 Axes>"
      ]
     },
     "metadata": {},
     "output_type": "display_data"
    }
   ],
   "source": [
    "show(x[3344],convolution)\n",
    "# agh = coonv(x[5],convolution)"
   ]
  },
  {
   "cell_type": "code",
   "execution_count": 75,
   "metadata": {},
   "outputs": [
    {
     "name": "stdout",
     "output_type": "stream",
     "text": [
      "torch.Size([42000, 784])\n"
     ]
    }
   ],
   "source": [
    "print(x.shape)"
   ]
  },
  {
   "cell_type": "code",
   "execution_count": null,
   "metadata": {},
   "outputs": [],
   "source": [
    "# dataset formation\n",
    "nx = torch.zeros([42000, 784])\n",
    "for i in range(len(x)):\n",
    "    nx[i] = coonv(x[i],convolution).view([784])\n",
    "    print(i/len(x))\n",
    "# will take 3 days "
   ]
  },
  {
   "cell_type": "code",
   "execution_count": 70,
   "metadata": {},
   "outputs": [
    {
     "name": "stdout",
     "output_type": "stream",
     "text": [
      "42000\n"
     ]
    }
   ],
   "source": [
    "print(len(x))"
   ]
  },
  {
   "cell_type": "code",
   "execution_count": 71,
   "metadata": {},
   "outputs": [],
   "source": [
    "nx=0\n",
    "ny=0"
   ]
  },
  {
   "cell_type": "code",
   "execution_count": null,
   "metadata": {},
   "outputs": [],
   "source": [
    "# check\n",
    "plt.gray()\n",
    "plt.imshow(nx[2].view([28,28]).tolist(), interpolation='nearest')\n",
    "plt.show()\n",
    "plt.gray()\n",
    "plt.imshow(x[2].view([28,28]).tolist(), interpolation='nearest')\n",
    "plt.show()"
   ]
  },
  {
   "cell_type": "code",
   "execution_count": 12,
   "metadata": {},
   "outputs": [
    {
     "name": "stdout",
     "output_type": "stream",
     "text": [
      "0  iteration complete\n",
      "loss = 0.1549929976463318\n",
      "1  iteration complete\n",
      "loss = 0.14529283344745636\n",
      "2  iteration complete\n",
      "loss = 0.14359790086746216\n",
      "3  iteration complete\n",
      "loss = 0.14252141118049622\n",
      "4  iteration complete\n",
      "loss = 0.14196962118148804\n",
      "5  iteration complete\n",
      "loss = 0.14188070595264435\n",
      "6  iteration complete\n",
      "loss = 0.1421775370836258\n",
      "7  iteration complete\n",
      "loss = 0.14278125762939453\n",
      "8  iteration complete\n",
      "loss = 0.1436130255460739\n",
      "9  iteration complete\n",
      "loss = 0.14459867775440216\n"
     ]
    }
   ],
   "source": [
    "for _ in range(10):\n",
    "    for i in ix:\n",
    "        result = [x[j] for j in range(i, i+16)]\n",
    "        xt = torch.cat(result)\n",
    "        yt = torch.tensor(y[i:i+15])\n",
    "        X_train = xt.view([bat_sz,784])\n",
    "        Y_train = F.one_hot(yt,10).float()\n",
    "\n",
    "        # forward pass\n",
    "        z1 = X_train @ w1 + b1   # bat_sz, n_fl\n",
    "        a1 = torch.sigmoid(z1)   #   ^\n",
    "        z2 = a1 @ w2 + b2        # bat_sz, n_ol\n",
    "        t = z2\n",
    "        # t is the activations of the output layer (10 activations for all 4 training examples) \n",
    "        loss = F.cross_entropy(t,Y_train)\n",
    "        \n",
    "        optimizer.zero_grad()\n",
    "        loss.backward()\n",
    "        optimizer.step()\n",
    "        \n",
    "    print(_ ,\" iteration complete\")\n",
    "    print(\"loss =\",loss.item())\n",
    "    optimizer = torch.optim.SGD([w1, b1, w2, b2], lr=0.001)\n",
    "    \n",
    "\n",
    "    "
   ]
  },
  {
   "cell_type": "code",
   "execution_count": 13,
   "metadata": {},
   "outputs": [],
   "source": [
    "def forward(ex,W1,B1,W2,B2):\n",
    "    z1 = ex.float() @ W1 + B1\n",
    "    a1 = torch.sigmoid(z1)\n",
    "    z2 = a1 @ W2 + B2\n",
    "    a2 = torch.softmax(z2, dim=1)\n",
    "    out = a2\n",
    "    return out"
   ]
  },
  {
   "cell_type": "code",
   "execution_count": 14,
   "metadata": {},
   "outputs": [
    {
     "name": "stdout",
     "output_type": "stream",
     "text": [
      "(28000, 784)\n"
     ]
    }
   ],
   "source": [
    "data2 = np.array(pd.read_csv('Mnist/digit-recognizer/test.csv'))\n",
    "print(data2.shape)\n",
    "data2 = torch.tensor(data2)"
   ]
  },
  {
   "cell_type": "code",
   "execution_count": 30,
   "metadata": {},
   "outputs": [],
   "source": [
    "label = torch.tensor(np.array(data2))"
   ]
  },
  {
   "cell_type": "code",
   "execution_count": 42,
   "metadata": {},
   "outputs": [],
   "source": [
    "arr = []\n",
    "for e in range(len(data2)):\n",
    "    # result = [data2[j] for j in range(e, e+16)]\n",
    "    # xt = torch.cat(result)\n",
    "    oot =list((forward(data2[e],w1,b1,w2,b2))[0])\n",
    "    arr.append(oot.index(max(oot)))"
   ]
  },
  {
   "cell_type": "code",
   "execution_count": 43,
   "metadata": {},
   "outputs": [],
   "source": [
    "df = pd.DataFrame({'Numbers': arr})\n",
    "# Write the DataFrame to a CSV file\n",
    "df.to_csv('Numbers.csv', index=True, header=False)"
   ]
  },
  {
   "cell_type": "code",
   "execution_count": 29,
   "metadata": {},
   "outputs": [
    {
     "name": "stdout",
     "output_type": "stream",
     "text": [
      "3\n"
     ]
    }
   ],
   "source": [
    "def arrt():\n",
    "    def rrt():\n",
    "        return 1 \n",
    "    a = rrt()\n",
    "    return a+2\n",
    "print(arrt())"
   ]
  }
 ],
 "metadata": {
  "kernelspec": {
   "display_name": "Python 3",
   "language": "python",
   "name": "python3"
  },
  "language_info": {
   "codemirror_mode": {
    "name": "ipython",
    "version": 3
   },
   "file_extension": ".py",
   "mimetype": "text/x-python",
   "name": "python",
   "nbconvert_exporter": "python",
   "pygments_lexer": "ipython3",
   "version": "3.10.6"
  },
  "orig_nbformat": 4
 },
 "nbformat": 4,
 "nbformat_minor": 2
}
