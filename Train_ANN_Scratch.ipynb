{
 "cells": [
  {
   "cell_type": "code",
   "execution_count": 1,
   "metadata": {},
   "outputs": [],
   "source": [
    "import pandas as pd\n",
    "import torch\n",
    "import random\n",
    "import math\n",
    "import numpy as np\n",
    "from matplotlib import pyplot as plt\n",
    "from PIL import Image as I\n",
    "import torch.optim as optim\n",
    "import torch.nn.functional as F"
   ]
  },
  {
   "cell_type": "code",
   "execution_count": 2,
   "metadata": {},
   "outputs": [
    {
     "name": "stdout",
     "output_type": "stream",
     "text": [
      "(42000, 785)\n"
     ]
    }
   ],
   "source": [
    "data = np.array(pd.read_csv('Datasets/train.csv'))\n",
    "print(data.shape)\n",
    "data = torch.tensor(data)"
   ]
  },
  {
   "cell_type": "code",
   "execution_count": 3,
   "metadata": {},
   "outputs": [],
   "source": [
    "y = data[:,0]\n",
    "x = data[:,1:]/255"
   ]
  },
  {
   "cell_type": "code",
   "execution_count": 4,
   "metadata": {},
   "outputs": [],
   "source": [
    "xtrain = x[:int(0.8*len(x))]\n",
    "ytrain = y[:int(0.8*len(y))]\n",
    "xtest = x[int(0.8*len(x)):]\n",
    "ytest = y[int(0.8*len(y)):]"
   ]
  },
  {
   "cell_type": "markdown",
   "metadata": {},
   "source": [
    "train data  :  xtrain , ytrain\n",
    "\n",
    "test data   :  xtest  , ytest"
   ]
  },
  {
   "cell_type": "code",
   "execution_count": 11,
   "metadata": {},
   "outputs": [],
   "source": [
    "bat_sz = 4\n",
    "n_il = 784 # no. of input criterias\n",
    "n_fl = 10  # no. of neurons in the hidden layer \n",
    "n_ol = 10  # no. of neurons in the final layer\n",
    "\n",
    "w_nl = 0.1 # weight normaliser\n",
    "b_nl = 0.01 # bias normaliser"
   ]
  },
  {
   "cell_type": "markdown",
   "metadata": {},
   "source": [
    "The Neural Net is defined as :\n",
    "- First layer (input) : takes in 28 pixel * 28 pixel or array of 784 pixel values and writes them as neuron activations\n",
    "\n",
    "- Second layer (hidden) : Condensing the neuron activations of the first layer neurons into 10 neurons of second layer\n",
    " \n",
    "- Third layer (output) : Final layer with 10 neurons, activation of which depicts the probablity of that number"
   ]
  },
  {
   "cell_type": "markdown",
   "metadata": {},
   "source": [
    "<div>\n",
    "<img src=\"layers.png\" width=\"300\"/>\n",
    "</div>"
   ]
  },
  {
   "cell_type": "code",
   "execution_count": 10,
   "metadata": {},
   "outputs": [],
   "source": [
    "ix = (torch.randperm(len(xtrain)-bat_sz))\n",
    "# randomising the dataset"
   ]
  },
  {
   "cell_type": "markdown",
   "metadata": {},
   "source": [
    "Weights are the connections that are supposed decided by the model these connect the layers \n",
    "\n",
    "Biases are the additive adjustments made to the layer "
   ]
  },
  {
   "cell_type": "code",
   "execution_count": 57,
   "metadata": {},
   "outputs": [
    {
     "name": "stderr",
     "output_type": "stream",
     "text": [
      "C:\\Users\\soumi\\AppData\\Local\\Temp\\ipykernel_23960\\2603008244.py:1: UserWarning: To copy construct from a tensor, it is recommended to use sourceTensor.clone().detach() or sourceTensor.clone().detach().requires_grad_(True), rather than torch.tensor(sourceTensor).\n",
      "  w1 = torch.tensor(torch.randn((n_il,n_fl))*w_nl).clone().detach().requires_grad_(True)   # Weight connecting input layer and layer one\n",
      "C:\\Users\\soumi\\AppData\\Local\\Temp\\ipykernel_23960\\2603008244.py:2: UserWarning: To copy construct from a tensor, it is recommended to use sourceTensor.clone().detach() or sourceTensor.clone().detach().requires_grad_(True), rather than torch.tensor(sourceTensor).\n",
      "  b1 = torch.tensor(torch.randn((bat_sz,n_fl))*b_nl).clone().detach().requires_grad_(True)\n",
      "C:\\Users\\soumi\\AppData\\Local\\Temp\\ipykernel_23960\\2603008244.py:3: UserWarning: To copy construct from a tensor, it is recommended to use sourceTensor.clone().detach() or sourceTensor.clone().detach().requires_grad_(True), rather than torch.tensor(sourceTensor).\n",
      "  w2 = torch.tensor(torch.randn((n_fl,n_ol)) * w_nl).clone().detach().requires_grad_(True)   # Weight connecting first layer and output layer\n",
      "C:\\Users\\soumi\\AppData\\Local\\Temp\\ipykernel_23960\\2603008244.py:4: UserWarning: To copy construct from a tensor, it is recommended to use sourceTensor.clone().detach() or sourceTensor.clone().detach().requires_grad_(True), rather than torch.tensor(sourceTensor).\n",
      "  b2 = torch.tensor(torch.randn((bat_sz,n_ol)) * b_nl).clone().detach().requires_grad_(True)\n"
     ]
    }
   ],
   "source": [
    "w1 = torch.tensor(torch.randn((n_il,n_fl))*w_nl).clone().detach().requires_grad_(True)   # Weight connecting input layer and layer one\n",
    "b1 = torch.tensor(torch.randn((bat_sz,n_fl))*b_nl).clone().detach().requires_grad_(True)\n",
    "w2 = torch.tensor(torch.randn((n_fl,n_ol)) * w_nl).clone().detach().requires_grad_(True)   # Weight connecting first layer and output layer\n",
    "b2 = torch.tensor(torch.randn((bat_sz,n_ol)) * b_nl).clone().detach().requires_grad_(True)"
   ]
  },
  {
   "cell_type": "code",
   "execution_count": 58,
   "metadata": {},
   "outputs": [],
   "source": [
    "parame = [w1,b1,w2,b2]   # parameters to be trained\n",
    "optimizer = torch.optim.SGD(parame, lr=0.01)"
   ]
  },
  {
   "cell_type": "code",
   "execution_count": 59,
   "metadata": {},
   "outputs": [],
   "source": [
    "losses = []\n",
    "epoch = 10"
   ]
  },
  {
   "cell_type": "code",
   "execution_count": 60,
   "metadata": {},
   "outputs": [],
   "source": [
    "# Defining forward pass of the neural network (non training)\n",
    "\n",
    "def forward(ex):\n",
    "    z1 = ex.float() @ w1 + b1\n",
    "    a1 = torch.sigmoid(z1)\n",
    "    z2 = a1 @ w2 + b2\n",
    "    a2 = torch.softmax(z2, dim=1)\n",
    "    out = a2\n",
    "    return out"
   ]
  },
  {
   "cell_type": "code",
   "execution_count": 61,
   "metadata": {},
   "outputs": [
    {
     "name": "stdout",
     "output_type": "stream",
     "text": [
      "epoch : 0\n",
      "loss :  0.20457471907138824\n",
      "Accuracy :  89.29761904761905\n",
      "epoch : 1\n",
      "loss :  0.11343421041965485\n",
      "Accuracy :  90.76190476190476\n",
      "epoch : 2\n",
      "loss :  0.09013481438159943\n",
      "Accuracy :  91.22619047619047\n",
      "epoch : 3\n",
      "loss :  0.08057047426700592\n",
      "Accuracy :  91.76190476190477\n",
      "epoch : 4\n",
      "loss :  0.07600472122430801\n",
      "Accuracy :  92.0\n",
      "epoch : 5\n",
      "loss :  0.07475019991397858\n",
      "Accuracy :  91.98809523809524\n",
      "epoch : 6\n",
      "loss :  0.07500419020652771\n",
      "Accuracy :  92.07142857142857\n",
      "epoch : 7\n",
      "loss :  0.07525043189525604\n",
      "Accuracy :  91.97619047619048\n",
      "epoch : 8\n",
      "loss :  0.074757419526577\n",
      "Accuracy :  92.19047619047619\n",
      "epoch : 9\n",
      "loss :  0.07333246618509293\n",
      "Accuracy :  92.28571428571428\n"
     ]
    }
   ],
   "source": [
    "for e in range(epoch):\n",
    "    for i in ix:\n",
    "        xt = xtrain[i:i+bat_sz]\n",
    "        yt = ytrain[i:i+bat_sz]\n",
    "        x_in = xt.view([bat_sz,n_il])\n",
    "        y_out = F.one_hot(yt,n_ol).float()\n",
    "        \n",
    "        # ------------------------------------------- forward pass --------------------------------------------------------\n",
    "        z1 = x_in @ w1 + b1   # w1 is multiplied by input layer neurons and b1 bias is added to the output\n",
    "        a1 = torch.sigmoid(z1)   # sigmoid activation\n",
    "        z2 = a1 @ w2 + b2        # n_fl, n_ol\n",
    "        t = z2 \n",
    "\n",
    "        # -----------------------------------------------------------------------------------------------------------------\n",
    "\n",
    "\n",
    "        # t is the activations of the output layer (10 activations for all 4 training examples) \n",
    "        loss = F.cross_entropy(t,y_out)\n",
    "        \n",
    "        optimizer.zero_grad()\n",
    "        loss.backward()\n",
    "        # backward paopogation is simply calculating dloss/dw1 , dloss/dw2 , dloss/db1 , dloss/db2 \n",
    "\n",
    "        optimizer.step()\n",
    "        # optimiser it just adjusting the weights with the gradient above calculated\n",
    "        # simply put\n",
    "        # w1 = w1 - l_r*(dloss/dw1)   is the main mathematical function\n",
    "\n",
    "\n",
    "        losses.append(loss)\n",
    "\n",
    "\n",
    "\n",
    "    print(\"epoch :\", e)\n",
    "    print(\"loss : \", loss.item())\n",
    "    \n",
    "    # Testing accuracy each epoch on the test dataset\n",
    "    k,d=len(xtest),len(xtest)\n",
    "    for n in range(len(xtest)):\n",
    "        omt =list((forward(xtest[n]))[0])\n",
    "        k-=omt.index(max(omt))==ytest[n].item()\n",
    "    print(\"Accuracy : \",((d-k)/d) *100)"
   ]
  },
  {
   "cell_type": "markdown",
   "metadata": {},
   "source": [
    "Lets Draw and check"
   ]
  },
  {
   "cell_type": "code",
   "execution_count": 95,
   "metadata": {},
   "outputs": [
    {
     "name": "stdout",
     "output_type": "stream",
     "text": [
      "Accuracy :  92.28571428571428\n"
     ]
    }
   ],
   "source": [
    "# lets check its accuracy on the inputs it has never encountered\n",
    "k,d=len(xtest),len(xtest)\n",
    "for n in range(len(xtest)):\n",
    "    omt =list((forward(xtest[n]))[0])\n",
    "    k-=omt.index(max(omt))==ytest[n].item()\n",
    "print(\"Accuracy : \",((d-k)/d) *100)"
   ]
  },
  {
   "cell_type": "code",
   "execution_count": 93,
   "metadata": {},
   "outputs": [
    {
     "name": "stdout",
     "output_type": "stream",
     "text": [
      "this is ur image \n"
     ]
    },
    {
     "data": {
      "image/png": "[encoded data removed]",
      "text/plain": [
       "<Figure size 640x480 with 1 Axes>"
      ]
     },
     "metadata": {},
     "output_type": "display_data"
    }
   ],
   "source": [
    "im = I.open('checker.png')\n",
    "pixels = im.load()\n",
    "arr = []\n",
    "for k in range(28):\n",
    "    for l in range(28):\n",
    "        arr.append(pixels[l,k][0])\n",
    "tarr = torch.tensor(arr)   #x[204])#\n",
    "parr = tarr.reshape([28,28])\n",
    "print('this is ur image ')\n",
    "plt.gray()\n",
    "plt.imshow(parr, interpolation='nearest')\n",
    "plt.show()"
   ]
  },
  {
   "cell_type": "code",
   "execution_count": 94,
   "metadata": {},
   "outputs": [
    {
     "name": "stdout",
     "output_type": "stream",
     "text": [
      "my prediction is :  2\n"
     ]
    }
   ],
   "source": [
    "oot =list((forward(tarr))[0])\n",
    "print('my prediction is : ',oot.index(max(oot)))"
   ]
  }
 ],
 "metadata": {
  "kernelspec": {
   "display_name": "Python 3",
   "language": "python",
   "name": "python3"
  },
  "language_info": {
   "codemirror_mode": {
    "name": "ipython",
    "version": 3
   },
   "file_extension": ".py",
   "mimetype": "text/x-python",
   "name": "python",
   "nbconvert_exporter": "python",
   "pygments_lexer": "ipython3",
   "version": "3.11.4"
  }
 },
 "nbformat": 4,
 "nbformat_minor": 2
}
