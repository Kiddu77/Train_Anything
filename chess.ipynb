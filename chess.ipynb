{
  "cells": [
    {
      "cell_type": "code",
      "execution_count": null,
      "metadata": {
        "id": "kVyh70oBHbLX"
      },
      "outputs": [],
      "source": [
        "import opendatasets as od\n",
        "import pandas as pd\n",
        "import numpy as np\n",
        "import torch\n",
        "import torch.nn as nn\n",
        "import torch.nn.functional as F\n",
        "\n"
      ]
    },
    {
      "cell_type": "code",
      "execution_count": null,
      "metadata": {
        "colab": {
          "base_uri": "https://localhost:8080/"
        },
        "id": "2b9PdKu6Hnzk",
        "outputId": "422b1466-44cb-4e37-81bd-8b108d7f1f10"
      },
      "outputs": [
        {
          "name": "stdout",
          "output_type": "stream",
          "text": [
            "Skipping, found downloaded files in \"./35-million-chess-games\" (use force=True to force download)\n"
          ]
        }
      ],
      "source": [
        "od.download(\"https://www.kaggle.com/datasets/milesh1/35-million-chess-games?select=all_with_filtered_anotations_since1998.txt\")"
      ]
    },
    {
      "cell_type": "code",
      "execution_count": null,
      "metadata": {
        "id": "oK2OpK76Jyhj"
      },
      "outputs": [],
      "source": [
        "f = open(\"/content/35-million-chess-games/all_with_filtered_anotations/all_with_filtered_anotations_since1998.txt\",'r')\n",
        "dataset = list(f.readlines())\n",
        "f.close()\n"
      ]
    },
    {
      "cell_type": "code",
      "execution_count": null,
      "metadata": {
        "id": "4IbRYp2rMGFY"
      },
      "outputs": [],
      "source": [
        "with torch.no_grad():\n",
        "    Xtr = []\n",
        "for k in range(100000):\n",
        "    game = (dataset[k+5].split(\"### \"))[1]\n",
        "    temp = []\n",
        "    for i in range(len(game)):\n",
        "        if game[i] ==\".\":\n",
        "            j=i\n",
        "            while game[j]!=' ':\n",
        "                j+=1\n",
        "            tempstr = game[i+1:j]\n",
        "            temp.append(tempstr)\n",
        "    Xtr.append(temp)\n"
      ]
    },
    {
      "cell_type": "code",
      "execution_count": null,
      "metadata": {
        "colab": {
          "base_uri": "https://localhost:8080/",
          "height": 748
        },
        "id": "GsIVCXkcxvG8",
        "outputId": "3fc9609c-08a3-43d5-86b9-e456d028afca"
      },
      "outputs": [],
      "source": [
        "vocab = ['.']\n",
        "with torch.no_grad():\n",
        "    Xtr = []\n",
        "for k in range(len(dataset)-5):\n",
        "    game = (dataset[k+5].split(\"### \"))[1]\n",
        "\n",
        "    for i in range(len(game)):\n",
        "        if game[i] ==\".\":\n",
        "            j=i\n",
        "            while game[j]!=' ':\n",
        "                j+=1\n",
        "            tempstr = game[i+1:j]\n",
        "            if tempstr not in vocab:\n",
        "                vocab.append(tempstr)"
      ]
    },
    {
      "cell_type": "code",
      "execution_count": null,
      "metadata": {
        "colab": {
          "base_uri": "https://localhost:8080/"
        },
        "id": "Qa-FxV0FsGm2",
        "outputId": "db7b3965-a126-4f1f-b74f-f785e92fc39c"
      },
      "outputs": [
        {
          "name": "stdout",
          "output_type": "stream",
          "text": [
            "9675\n"
          ]
        }
      ],
      "source": [
        "print(len(vocab))"
      ]
    },
    {
      "cell_type": "code",
      "execution_count": null,
      "metadata": {
        "id": "zq4HyOzJyQLF"
      },
      "outputs": [],
      "source": [
        "def encode(moves:list):\n",
        "    arr = []\n",
        "    for i in moves:\n",
        "        arr.append(vocab.index(i))\n",
        "    return arr\n"
      ]
    },
    {
      "cell_type": "code",
      "execution_count": null,
      "metadata": {
        "id": "wPtyBVtxvqoZ"
      },
      "outputs": [],
      "source": [
        "X_data = []\n",
        "Y_data = []\n",
        "\n",
        "for game in Xtr:\n",
        "    if len(game)<8:\n",
        "        continue\n",
        "    X_data.append(encode(['.','.','.','.','.','.','.',game[0]]))\n",
        "    X_data.append(encode(['.','.','.','.','.','.',game[0],game[1]]))\n",
        "    X_data.append(encode(['.','.','.','.','.',game[0],game[1],game[2]]))\n",
        "    X_data.append(encode(['.','.','.','.',game[0],game[1],game[2],game[3]]))\n",
        "    X_data.append(encode(['.','.','.',game[0],game[1],game[2],game[3],game[4]]))\n",
        "    X_data.append(encode(['.','.',game[0],game[1],game[2],game[3],game[4],game[5]]))\n",
        "    X_data.append(encode(['.',game[0],game[1],game[2],game[3],game[4],game[5],game[6]]))\n",
        "\n",
        "    Y_data.append(encode([game[1]]))\n",
        "    Y_data.append(encode([game[2]]))\n",
        "    Y_data.append(encode([game[3]]))\n",
        "    Y_data.append(encode([game[4]]))\n",
        "    Y_data.append(encode([game[5]]))\n",
        "    Y_data.append(encode([game[6]]))\n",
        "    Y_data.append(encode([game[7]]))\n",
        "\n",
        "    for i in range(len(game)-8):\n",
        "        #print(game[i:i+8],game[i+8])\n",
        "\n",
        "        X_data.append(encode(game[i:i+8]))\n",
        "        Y_data.append(encode([game[i+8]]))\n",
        "\n"
      ]
    },
    {
      "cell_type": "code",
      "execution_count": null,
      "metadata": {
        "id": "0EfFkZsggegm"
      },
      "outputs": [],
      "source": [
        "Xtr = 0"
      ]
    },
    {
      "cell_type": "code",
      "execution_count": null,
      "metadata": {
        "id": "NgQRGsc9ghG1"
      },
      "outputs": [],
      "source": [
        "X_data = torch.tensor(X_data)\n",
        "Y_data = torch.tensor(Y_data)"
      ]
    },
    {
      "cell_type": "code",
      "execution_count": null,
      "metadata": {
        "colab": {
          "base_uri": "https://localhost:8080/"
        },
        "id": "Qqhxxx7ZhDOk",
        "outputId": "03b3f4ea-35f4-4115-d7a4-2f2a71a39b1c"
      },
      "outputs": [
        {
          "data": {
            "text/plain": [
              "74354"
            ]
          },
          "execution_count": 17,
          "metadata": {},
          "output_type": "execute_result"
        }
      ],
      "source": [
        "# now i have training data and test data\n",
        "len(X_data)"
      ]
    },
    {
      "cell_type": "code",
      "execution_count": null,
      "metadata": {
        "id": "DhuMMiqG__kc"
      },
      "outputs": [],
      "source": [
        "print(len(X_data))"
      ]
    },
    {
      "cell_type": "code",
      "execution_count": null,
      "metadata": {
        "id": "f_xDhxJtAWsB"
      },
      "outputs": [],
      "source": [
        "voc_sz = len(vocab)"
      ]
    },
    {
      "cell_type": "code",
      "execution_count": null,
      "metadata": {
        "id": "O7O-luFm-JWE"
      },
      "outputs": [],
      "source": [
        "class Reshaper(nn.Module):\n",
        "    def __init__(self,n):\n",
        "        self.n = n\n",
        "        super(Reshaper, self).__init__()\n",
        "\n",
        "    def forward(self, x):\n",
        "        B, T, C = x.shape\n",
        "        x = x.view(B, T//self.n, C*self.n)\n",
        "        if x.shape[1] == 1:\n",
        "            x = x.squeeze(1)\n",
        "        self.out = x\n",
        "        return self.out\n"
      ]
    },
    {
      "cell_type": "code",
      "execution_count": null,
      "metadata": {
        "id": "4o0NyPbWhO6f"
      },
      "outputs": [],
      "source": [
        "blk_sz = 8\n",
        "emb_sz = 16\n",
        "n_fl = 200\n",
        "voc_sz = len(vocab)\n",
        "inp_sz = 8\n",
        "Model = nn.Sequential(\n",
        "    nn.Embedding(voc_sz,emb_sz),     #  Gets the input ([10000,8,16])\n",
        "    Reshaper(2),  # becomes [10000,4,32]  # [inp_sz,blk_sz//2,emb_sz*2]\n",
        "    nn.Linear(emb_sz*2,n_fl),       # takes [32,200]  becomes [10000,4,200]\n",
        "    nn.Tanh(),\n",
        "    Reshaper(2),  # becomes [10000,2,400]   # [inp_sz,blk_sz//4,n_fl*2]\n",
        "    nn.Linear(n_fl*2,n_fl),    # becomes  [10000,2,200]\n",
        "    nn.Tanh(),\n",
        "    Reshaper(2),  # becomes [10000,400]  # [inp_sz,n_fl*2]\n",
        "    nn.Linear(n_fl*2,voc_sz),    # become [400,voc_sz]\n",
        "    nn.Softmax(),\n",
        ")"
      ]
    },
    {
      "cell_type": "code",
      "execution_count": null,
      "metadata": {
        "id": "-i7wL1aA3XPH"
      },
      "outputs": [],
      "source": []
    },
    {
      "cell_type": "code",
      "execution_count": null,
      "metadata": {
        "colab": {
          "base_uri": "https://localhost:8080/"
        },
        "id": "LRNm6X4BFZFF",
        "outputId": "d69dd14c-e746-41be-b9d4-33b86c5d0ff6"
      },
      "outputs": [
        {
          "name": "stdout",
          "output_type": "stream",
          "text": [
            "tensor([4])\n"
          ]
        }
      ],
      "source": [
        "print(Y_data[2])"
      ]
    },
    {
      "cell_type": "code",
      "execution_count": null,
      "metadata": {
        "colab": {
          "base_uri": "https://localhost:8080/",
          "height": 425
        },
        "id": "Q1_yKNpIKBtj",
        "outputId": "556050d4-a7bd-4977-865e-af89dfdcc35b"
      },
      "outputs": [
        {
          "name": "stdout",
          "output_type": "stream",
          "text": [
            "tensor(9.1773, grad_fn=<NllLossBackward0>)\n"
          ]
        },
        {
          "ename": "KeyboardInterrupt",
          "evalue": "ignored",
          "output_type": "error",
          "traceback": [
            "\u001b[0;31m---------------------------------------------------------------------------\u001b[0m",
            "\u001b[0;31mKeyboardInterrupt\u001b[0m                         Traceback (most recent call last)",
            "\u001b[0;32m<ipython-input-78-d8ce1f366205>\u001b[0m in \u001b[0;36m<cell line: 1>\u001b[0;34m()\u001b[0m\n\u001b[1;32m     12\u001b[0m         \u001b[0mloss\u001b[0m\u001b[0;34m.\u001b[0m\u001b[0mbackward\u001b[0m\u001b[0;34m(\u001b[0m\u001b[0;34m)\u001b[0m\u001b[0;34m\u001b[0m\u001b[0;34m\u001b[0m\u001b[0m\n\u001b[1;32m     13\u001b[0m \u001b[0;34m\u001b[0m\u001b[0m\n\u001b[0;32m---> 14\u001b[0;31m         \u001b[0moptimizer\u001b[0m\u001b[0;34m.\u001b[0m\u001b[0mstep\u001b[0m\u001b[0;34m(\u001b[0m\u001b[0;34m)\u001b[0m\u001b[0;34m\u001b[0m\u001b[0;34m\u001b[0m\u001b[0m\n\u001b[0m\u001b[1;32m     15\u001b[0m \u001b[0;34m\u001b[0m\u001b[0m\n\u001b[1;32m     16\u001b[0m     \u001b[0mprint\u001b[0m\u001b[0;34m(\u001b[0m\u001b[0mloss\u001b[0m\u001b[0;34m)\u001b[0m\u001b[0;34m\u001b[0m\u001b[0;34m\u001b[0m\u001b[0m\n",
            "\u001b[0;32m/usr/local/lib/python3.10/dist-packages/torch/optim/optimizer.py\u001b[0m in \u001b[0;36mwrapper\u001b[0;34m(*args, **kwargs)\u001b[0m\n\u001b[1;32m    278\u001b[0m                                                f\"but got {result}.\")\n\u001b[1;32m    279\u001b[0m \u001b[0;34m\u001b[0m\u001b[0m\n\u001b[0;32m--> 280\u001b[0;31m                 \u001b[0mout\u001b[0m \u001b[0;34m=\u001b[0m \u001b[0mfunc\u001b[0m\u001b[0;34m(\u001b[0m\u001b[0;34m*\u001b[0m\u001b[0margs\u001b[0m\u001b[0;34m,\u001b[0m \u001b[0;34m**\u001b[0m\u001b[0mkwargs\u001b[0m\u001b[0;34m)\u001b[0m\u001b[0;34m\u001b[0m\u001b[0;34m\u001b[0m\u001b[0m\n\u001b[0m\u001b[1;32m    281\u001b[0m                 \u001b[0mself\u001b[0m\u001b[0;34m.\u001b[0m\u001b[0m_optimizer_step_code\u001b[0m\u001b[0;34m(\u001b[0m\u001b[0;34m)\u001b[0m\u001b[0;34m\u001b[0m\u001b[0;34m\u001b[0m\u001b[0m\n\u001b[1;32m    282\u001b[0m \u001b[0;34m\u001b[0m\u001b[0m\n",
            "\u001b[0;32m/usr/local/lib/python3.10/dist-packages/torch/optim/optimizer.py\u001b[0m in \u001b[0;36m_use_grad\u001b[0;34m(self, *args, **kwargs)\u001b[0m\n\u001b[1;32m     31\u001b[0m         \u001b[0;32mtry\u001b[0m\u001b[0;34m:\u001b[0m\u001b[0;34m\u001b[0m\u001b[0;34m\u001b[0m\u001b[0m\n\u001b[1;32m     32\u001b[0m             \u001b[0mtorch\u001b[0m\u001b[0;34m.\u001b[0m\u001b[0mset_grad_enabled\u001b[0m\u001b[0;34m(\u001b[0m\u001b[0mself\u001b[0m\u001b[0;34m.\u001b[0m\u001b[0mdefaults\u001b[0m\u001b[0;34m[\u001b[0m\u001b[0;34m'differentiable'\u001b[0m\u001b[0;34m]\u001b[0m\u001b[0;34m)\u001b[0m\u001b[0;34m\u001b[0m\u001b[0;34m\u001b[0m\u001b[0m\n\u001b[0;32m---> 33\u001b[0;31m             \u001b[0mret\u001b[0m \u001b[0;34m=\u001b[0m \u001b[0mfunc\u001b[0m\u001b[0;34m(\u001b[0m\u001b[0mself\u001b[0m\u001b[0;34m,\u001b[0m \u001b[0;34m*\u001b[0m\u001b[0margs\u001b[0m\u001b[0;34m,\u001b[0m \u001b[0;34m**\u001b[0m\u001b[0mkwargs\u001b[0m\u001b[0;34m)\u001b[0m\u001b[0;34m\u001b[0m\u001b[0;34m\u001b[0m\u001b[0m\n\u001b[0m\u001b[1;32m     34\u001b[0m         \u001b[0;32mfinally\u001b[0m\u001b[0;34m:\u001b[0m\u001b[0;34m\u001b[0m\u001b[0;34m\u001b[0m\u001b[0m\n\u001b[1;32m     35\u001b[0m             \u001b[0mtorch\u001b[0m\u001b[0;34m.\u001b[0m\u001b[0mset_grad_enabled\u001b[0m\u001b[0;34m(\u001b[0m\u001b[0mprev_grad\u001b[0m\u001b[0;34m)\u001b[0m\u001b[0;34m\u001b[0m\u001b[0;34m\u001b[0m\u001b[0m\n",
            "\u001b[0;32m/usr/local/lib/python3.10/dist-packages/torch/optim/sgd.py\u001b[0m in \u001b[0;36mstep\u001b[0;34m(self, closure)\u001b[0m\n\u001b[1;32m     74\u001b[0m             \u001b[0mhas_sparse_grad\u001b[0m \u001b[0;34m=\u001b[0m \u001b[0mself\u001b[0m\u001b[0;34m.\u001b[0m\u001b[0m_init_group\u001b[0m\u001b[0;34m(\u001b[0m\u001b[0mgroup\u001b[0m\u001b[0;34m,\u001b[0m \u001b[0mparams_with_grad\u001b[0m\u001b[0;34m,\u001b[0m \u001b[0md_p_list\u001b[0m\u001b[0;34m,\u001b[0m \u001b[0mmomentum_buffer_list\u001b[0m\u001b[0;34m)\u001b[0m\u001b[0;34m\u001b[0m\u001b[0;34m\u001b[0m\u001b[0m\n\u001b[1;32m     75\u001b[0m \u001b[0;34m\u001b[0m\u001b[0m\n\u001b[0;32m---> 76\u001b[0;31m             sgd(params_with_grad,\n\u001b[0m\u001b[1;32m     77\u001b[0m                 \u001b[0md_p_list\u001b[0m\u001b[0;34m,\u001b[0m\u001b[0;34m\u001b[0m\u001b[0;34m\u001b[0m\u001b[0m\n\u001b[1;32m     78\u001b[0m                 \u001b[0mmomentum_buffer_list\u001b[0m\u001b[0;34m,\u001b[0m\u001b[0;34m\u001b[0m\u001b[0;34m\u001b[0m\u001b[0m\n",
            "\u001b[0;32m/usr/local/lib/python3.10/dist-packages/torch/optim/sgd.py\u001b[0m in \u001b[0;36msgd\u001b[0;34m(params, d_p_list, momentum_buffer_list, has_sparse_grad, foreach, weight_decay, momentum, lr, dampening, nesterov, maximize)\u001b[0m\n\u001b[1;32m    220\u001b[0m         \u001b[0mfunc\u001b[0m \u001b[0;34m=\u001b[0m \u001b[0m_single_tensor_sgd\u001b[0m\u001b[0;34m\u001b[0m\u001b[0;34m\u001b[0m\u001b[0m\n\u001b[1;32m    221\u001b[0m \u001b[0;34m\u001b[0m\u001b[0m\n\u001b[0;32m--> 222\u001b[0;31m     func(params,\n\u001b[0m\u001b[1;32m    223\u001b[0m          \u001b[0md_p_list\u001b[0m\u001b[0;34m,\u001b[0m\u001b[0;34m\u001b[0m\u001b[0;34m\u001b[0m\u001b[0m\n\u001b[1;32m    224\u001b[0m          \u001b[0mmomentum_buffer_list\u001b[0m\u001b[0;34m,\u001b[0m\u001b[0;34m\u001b[0m\u001b[0;34m\u001b[0m\u001b[0m\n",
            "\u001b[0;32m/usr/local/lib/python3.10/dist-packages/torch/optim/sgd.py\u001b[0m in \u001b[0;36m_single_tensor_sgd\u001b[0;34m(params, d_p_list, momentum_buffer_list, weight_decay, momentum, lr, dampening, nesterov, maximize, has_sparse_grad)\u001b[0m\n\u001b[1;32m    263\u001b[0m                 \u001b[0md_p\u001b[0m \u001b[0;34m=\u001b[0m \u001b[0mbuf\u001b[0m\u001b[0;34m\u001b[0m\u001b[0;34m\u001b[0m\u001b[0m\n\u001b[1;32m    264\u001b[0m \u001b[0;34m\u001b[0m\u001b[0m\n\u001b[0;32m--> 265\u001b[0;31m         \u001b[0mparam\u001b[0m\u001b[0;34m.\u001b[0m\u001b[0madd_\u001b[0m\u001b[0;34m(\u001b[0m\u001b[0md_p\u001b[0m\u001b[0;34m,\u001b[0m \u001b[0malpha\u001b[0m\u001b[0;34m=\u001b[0m\u001b[0;34m-\u001b[0m\u001b[0mlr\u001b[0m\u001b[0;34m)\u001b[0m\u001b[0;34m\u001b[0m\u001b[0;34m\u001b[0m\u001b[0m\n\u001b[0m\u001b[1;32m    266\u001b[0m \u001b[0;34m\u001b[0m\u001b[0m\n\u001b[1;32m    267\u001b[0m \u001b[0;34m\u001b[0m\u001b[0m\n",
            "\u001b[0;31mKeyboardInterrupt\u001b[0m: "
          ]
        }
      ],
      "source": [
        "for x in range(10):\n",
        "    for x in range(20000):\n",
        "        ix = torch.randint(0, X_data.shape[0], (8,))\n",
        "        Xb, Yb = X_data[ix], Y_data[ix] # batch X,Y\n",
        "        # print(Xb)\n",
        "        # break\n",
        "        logits = Model(Xb)\n",
        "        #print(logits , Yb.squeeze(dim = 1))\n",
        "        loss = F.cross_entropy(logits, Yb.squeeze(dim = 1))\n",
        "        Model.zero_grad()\n",
        "        optimizer = torch.optim.SGD(Model.parameters(), lr=0.01)\n",
        "        loss.backward()\n",
        "\n",
        "        optimizer.step()\n",
        "\n",
        "    print(loss)\n"
      ]
    },
    {
      "cell_type": "code",
      "execution_count": null,
      "metadata": {
        "colab": {
          "base_uri": "https://localhost:8080/"
        },
        "id": "CEZxn8g2EBkm",
        "outputId": "7985c6bb-e885-4b0e-add8-2451057b892f"
      },
      "outputs": [
        {
          "name": "stdout",
          "output_type": "stream",
          "text": [
            "[torch.Size([8, 4, 32]), torch.Size([8, 2, 400]), torch.Size([8, 1, 400])]\n"
          ]
        }
      ],
      "source": [
        "print(shaper)"
      ]
    },
    {
      "cell_type": "code",
      "execution_count": null,
      "metadata": {
        "id": "lkttUZyVM50X"
      },
      "outputs": [],
      "source": [
        "logi = Model(X_data[5:13])\n",
        "print(logi,Y_data[5:13])"
      ]
    },
    {
      "cell_type": "code",
      "execution_count": null,
      "metadata": {
        "id": "JLABXQ2jGyHH"
      },
      "outputs": [],
      "source": [
        "# sampeling from the data\n",
        "# lets start with white"
      ]
    },
    {
      "cell_type": "code",
      "execution_count": null,
      "metadata": {
        "colab": {
          "base_uri": "https://localhost:8080/",
          "height": 36
        },
        "id": "4gKNeZqBwsxx",
        "outputId": "b5b67299-c074-48dc-c295-b2f41e417673"
      },
      "outputs": [
        {
          "data": {
            "application/vnd.google.colaboratory.intrinsic+json": {
              "type": "string"
            },
            "text/plain": [
              "'d4'"
            ]
          },
          "execution_count": 26,
          "metadata": {},
          "output_type": "execute_result"
        }
      ],
      "source": [
        "vocab[1]"
      ]
    },
    {
      "cell_type": "code",
      "execution_count": null,
      "metadata": {
        "colab": {
          "base_uri": "https://localhost:8080/",
          "height": 1000
        },
        "id": "HC2ql1OhHU2N",
        "outputId": "0c83fb58-4fa8-4444-d2ed-949a51595ecc"
      },
      "outputs": [
        {
          "name": "stdout",
          "output_type": "stream",
          "text": [
            "Nf6\n",
            "Your Move : Nc3\n",
            "d6\n",
            "Your Move : Bf4\n",
            "d6\n",
            "Your Move : Bf4\n",
            "Ne4\n",
            "Your Move : Nxe4\n",
            "Nxe4\n",
            "Your Move : Nxe4\n",
            "Nxe4\n",
            "Your Move : Nxe4\n",
            "Qxe4\n",
            "Your Move : Qd3\n",
            "Qxe2\n",
            "Your Move : Bxe2\n",
            "Bxc4\n",
            "Your Move : Qxc4\n",
            "Nb6\n",
            "Your Move : Qxc7\n",
            "Kg7\n",
            "Your Move : Qxb7\n",
            "f4\n",
            "Your Move : Qxa8\n",
            "Bxf4\n",
            "Your Move : Qxf8+\n",
            "Bd6\n",
            "Your Move : Qxe7+\n",
            "Rh5\n",
            "Your Move : Qxh5\n",
            "Rxa5\n",
            "Your Move : Qxa5\n",
            "Bxd4\n",
            "Your Move : Qxa7+\n",
            "Ne2\n",
            "Your Move : Qxg7\n",
            "Nc6\n",
            "Your Move : Qxd4\n",
            "Rh7\n",
            "Your Move : Qxd6\n",
            "Rxe8\n",
            "Your Move : Qxe8\n",
            "h6\n",
            "Your Move : Qxc6\n",
            "b5\n",
            "Your Move : Ra8#\n"
          ]
        },
        {
          "ename": "ValueError",
          "evalue": "ignored",
          "output_type": "error",
          "traceback": [
            "\u001b[0;31m---------------------------------------------------------------------------\u001b[0m",
            "\u001b[0;31mValueError\u001b[0m                                Traceback (most recent call last)",
            "\u001b[0;32m<ipython-input-30-28dce1307210>\u001b[0m in \u001b[0;36m<cell line: 2>\u001b[0;34m()\u001b[0m\n\u001b[1;32m      8\u001b[0m \u001b[0;34m\u001b[0m\u001b[0m\n\u001b[1;32m      9\u001b[0m     \u001b[0mmove\u001b[0m \u001b[0;34m=\u001b[0m \u001b[0minput\u001b[0m\u001b[0;34m(\u001b[0m\u001b[0;34m\"Your Move : \"\u001b[0m\u001b[0;34m)\u001b[0m\u001b[0;34m\u001b[0m\u001b[0;34m\u001b[0m\u001b[0m\n\u001b[0;32m---> 10\u001b[0;31m     \u001b[0mcontext\u001b[0m\u001b[0;34m.\u001b[0m\u001b[0mappend\u001b[0m\u001b[0;34m(\u001b[0m\u001b[0mvocab\u001b[0m\u001b[0;34m.\u001b[0m\u001b[0mindex\u001b[0m\u001b[0;34m(\u001b[0m\u001b[0mmove\u001b[0m\u001b[0;34m)\u001b[0m\u001b[0;34m)\u001b[0m\u001b[0;34m\u001b[0m\u001b[0;34m\u001b[0m\u001b[0m\n\u001b[0m",
            "\u001b[0;31mValueError\u001b[0m: 'Ra8#' is not in list"
          ]
        }
      ],
      "source": [
        "context = [0,0,0,0,0,0,0,1]\n",
        "for x in range(100):\n",
        "    logits = Model(torch.tensor([context[-8:]]))\n",
        "    probs = F.softmax(logits, dim=1)\n",
        "    # sample from the distribution\n",
        "    ix = torch.multinomial(probs, num_samples=1).item()\n",
        "    print(vocab[ix])\n",
        "\n",
        "    move = input(\"Your Move : \")\n",
        "    context.append(vocab.index(move))"
      ]
    }
  ],
  "metadata": {
    "colab": {
      "provenance": []
    },
    "kernelspec": {
      "display_name": "Python 3",
      "name": "python3"
    },
    "language_info": {
      "codemirror_mode": {
        "name": "ipython",
        "version": 3
      },
      "file_extension": ".py",
      "mimetype": "text/x-python",
      "name": "python",
      "nbconvert_exporter": "python",
      "pygments_lexer": "ipython3",
      "version": "3.11.4"
    }
  },
  "nbformat": 4,
  "nbformat_minor": 0
}
